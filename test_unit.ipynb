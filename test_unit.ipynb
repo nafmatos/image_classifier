{
 "cells": [
  {
   "cell_type": "markdown",
   "metadata": {},
   "source": [
    "# Notebook to test `predict.py` and `train.py`"
   ]
  },
  {
   "cell_type": "markdown",
   "metadata": {},
   "source": [
    "## Table of Contents:\n",
    "- [1 - Test `predict.py`](#predict)\n",
    "- [2 - Test `train.py`](#train)"
   ]
  },
  {
   "cell_type": "markdown",
   "metadata": {},
   "source": [
    "---"
   ]
  },
  {
   "cell_type": "markdown",
   "metadata": {},
   "source": [
    "<a id='predict'></a>\n",
    "## 1- Test `predict.py`"
   ]
  },
  {
   "cell_type": "markdown",
   "metadata": {},
   "source": [
    "#### Check the helper"
   ]
  },
  {
   "cell_type": "code",
   "execution_count": 1,
   "metadata": {},
   "outputs": [
    {
     "name": "stdout",
     "output_type": "stream",
     "text": [
      "usage: predict.py [-h] [--top_k TOPK] [--category_names CAT_NAME_FILE] [--gpu]\n",
      "                  file_name check_point_file\n",
      "\n",
      "Image Classifer - Prediction Module\n",
      "\n",
      "positional arguments:\n",
      "  file_name             File Name of the image to predict.\n",
      "  check_point_file      Checkpoint file of the previous trained neural\n",
      "                        network.\n",
      "\n",
      "optional arguments:\n",
      "  -h, --help            show this help message and exit\n",
      "  --top_k TOPK          Number of top predicted classes to show. Default=5.\n",
      "  --category_names CAT_NAME_FILE\n",
      "                        JSON file containing the dictionary map from index to\n",
      "                        class name. Default=cat_to_name.json.\n",
      "  --gpu                 If included will run the prediction using GPU (if\n",
      "                        available), otherwise uses CPU.\n"
     ]
    }
   ],
   "source": [
    "!python predict.py --help"
   ]
  },
  {
   "cell_type": "markdown",
   "metadata": {},
   "source": [
    "#### Check the behavior with no arguments"
   ]
  },
  {
   "cell_type": "code",
   "execution_count": 2,
   "metadata": {},
   "outputs": [
    {
     "name": "stderr",
     "output_type": "stream",
     "text": [
      "usage: predict.py [-h] [--top_k TOPK] [--category_names CAT_NAME_FILE] [--gpu]\n",
      "                  file_name check_point_file\n",
      "predict.py: error: the following arguments are required: file_name, check_point_file\n"
     ]
    }
   ],
   "source": [
    "!python predict.py"
   ]
  },
  {
   "cell_type": "markdown",
   "metadata": {},
   "source": [
    "#### Check with missing file name"
   ]
  },
  {
   "cell_type": "code",
   "execution_count": 3,
   "metadata": {},
   "outputs": [
    {
     "name": "stderr",
     "output_type": "stream",
     "text": [
      "usage: predict.py [-h] [--top_k TOPK] [--category_names CAT_NAME_FILE] [--gpu]\n",
      "                  file_name check_point_file\n",
      "predict.py: error: argument file_name: 'fake.jpg' is an invalid file.\n"
     ]
    }
   ],
   "source": [
    "!python predict.py fake.jpg"
   ]
  },
  {
   "cell_type": "markdown",
   "metadata": {},
   "source": [
    "#### Check with missing check point file"
   ]
  },
  {
   "cell_type": "code",
   "execution_count": 4,
   "metadata": {},
   "outputs": [
    {
     "name": "stderr",
     "output_type": "stream",
     "text": [
      "usage: predict.py [-h] [--top_k TOPK] [--category_names CAT_NAME_FILE] [--gpu]\n",
      "                  file_name check_point_file\n",
      "predict.py: error: argument check_point_file: 'fake.pth' is an invalid file.\n"
     ]
    }
   ],
   "source": [
    "!python predict.py flowers/test/10/image_07090.jpg fake.pth"
   ]
  },
  {
   "cell_type": "markdown",
   "metadata": {},
   "source": [
    "#### Check with negative top_k:"
   ]
  },
  {
   "cell_type": "code",
   "execution_count": 5,
   "metadata": {},
   "outputs": [
    {
     "name": "stderr",
     "output_type": "stream",
     "text": [
      "usage: predict.py [-h] [--top_k TOPK] [--category_names CAT_NAME_FILE] [--gpu]\n",
      "                  file_name check_point_file\n",
      "predict.py: error: argument --top_k: '-3' is an invalid positive integer value.\n"
     ]
    }
   ],
   "source": [
    "!python predict.py flowers/test/10/image_07090.jpg checkpoint.pth --top_k -3"
   ]
  },
  {
   "cell_type": "markdown",
   "metadata": {},
   "source": [
    "#### Check with missing category name file:"
   ]
  },
  {
   "cell_type": "code",
   "execution_count": 6,
   "metadata": {},
   "outputs": [
    {
     "name": "stderr",
     "output_type": "stream",
     "text": [
      "usage: predict.py [-h] [--top_k TOPK] [--category_names CAT_NAME_FILE] [--gpu]\n",
      "                  file_name check_point_file\n",
      "predict.py: error: argument --category_names: 'fake.json' is an invalid file.\n"
     ]
    }
   ],
   "source": [
    "!python predict.py flowers/test/10/image_07090.jpg checkpoint.pth --category_names fake.json"
   ]
  },
  {
   "cell_type": "markdown",
   "metadata": {},
   "source": [
    "#### Check against the same image used in part 1 with GPU:"
   ]
  },
  {
   "cell_type": "code",
   "execution_count": 7,
   "metadata": {},
   "outputs": [
    {
     "name": "stdout",
     "output_type": "stream",
     "text": [
      "If a predicted class is not available in 'cat_to_name.json' it will be shown as 'NA'.\n",
      "Proceeding with GPU.\n",
      "List of top 5 classes and probailities:\n",
      "Rank:0 - Propability: 1.0000 - Predicted Class: globe thistle <<<=== PREDICTED CLASS\n",
      "Rank:1 - Propability: 0.0000 - Predicted Class: common dandelion \n",
      "Rank:2 - Propability: 0.0000 - Predicted Class: pincushion flower \n",
      "Rank:3 - Propability: 0.0000 - Predicted Class: spear thistle \n",
      "Rank:4 - Propability: 0.0000 - Predicted Class: artichoke \n"
     ]
    }
   ],
   "source": [
    "!python predict.py flowers/test/10/image_07090.jpg checkpoint.pth --gpu"
   ]
  },
  {
   "cell_type": "markdown",
   "metadata": {},
   "source": [
    "#### Check against the same image used in part 1 with CPU:"
   ]
  },
  {
   "cell_type": "code",
   "execution_count": 8,
   "metadata": {},
   "outputs": [
    {
     "name": "stdout",
     "output_type": "stream",
     "text": [
      "If a predicted class is not available in 'cat_to_name.json' it will be shown as 'NA'.\n",
      "Proceeding with CPU.\n",
      "List of top 5 classes and probailities:\n",
      "Rank:0 - Propability: 1.0000 - Predicted Class: globe thistle <<<=== PREDICTED CLASS\n",
      "Rank:1 - Propability: 0.0000 - Predicted Class: common dandelion \n",
      "Rank:2 - Propability: 0.0000 - Predicted Class: pincushion flower \n",
      "Rank:3 - Propability: 0.0000 - Predicted Class: spear thistle \n",
      "Rank:4 - Propability: 0.0000 - Predicted Class: artichoke \n"
     ]
    }
   ],
   "source": [
    "!python predict.py flowers/test/10/image_07090.jpg checkpoint.pth"
   ]
  },
  {
   "cell_type": "markdown",
   "metadata": {},
   "source": [
    "#### Check against the same image used in part 1 , but parsing arguments:"
   ]
  },
  {
   "cell_type": "code",
   "execution_count": 9,
   "metadata": {},
   "outputs": [
    {
     "name": "stdout",
     "output_type": "stream",
     "text": [
      "If a predicted class is not available in 'cat_to_name.json' it will be shown as 'NA'.\n",
      "Proceeding with CPU.\n",
      "List of top 10 classes and probailities:\n",
      "Rank:0 - Propability: 1.0000 - Predicted Class: globe thistle <<<=== PREDICTED CLASS\n",
      "Rank:1 - Propability: 0.0000 - Predicted Class: common dandelion \n",
      "Rank:2 - Propability: 0.0000 - Predicted Class: pincushion flower \n",
      "Rank:3 - Propability: 0.0000 - Predicted Class: spear thistle \n",
      "Rank:4 - Propability: 0.0000 - Predicted Class: artichoke \n",
      "Rank:5 - Propability: 0.0000 - Predicted Class: great masterwort \n",
      "Rank:6 - Propability: 0.0000 - Predicted Class: colt's foot \n",
      "Rank:7 - Propability: 0.0000 - Predicted Class: carnation \n",
      "Rank:8 - Propability: 0.0000 - Predicted Class: bee balm \n",
      "Rank:9 - Propability: 0.0000 - Predicted Class: love in the mist \n"
     ]
    }
   ],
   "source": [
    "!python predict.py --top_k 10 --category_names cat_to_name.json flowers/test/10/image_07090.jpg checkpoint.pth"
   ]
  },
  {
   "cell_type": "markdown",
   "metadata": {},
   "source": [
    "---"
   ]
  },
  {
   "cell_type": "markdown",
   "metadata": {},
   "source": [
    "<a id='train'></a>\n",
    "## 2- Train `predict.py`"
   ]
  },
  {
   "cell_type": "markdown",
   "metadata": {},
   "source": [
    "#### Check the helper"
   ]
  },
  {
   "cell_type": "code",
   "execution_count": 10,
   "metadata": {},
   "outputs": [
    {
     "name": "stdout",
     "output_type": "stream",
     "text": [
      "usage: train.py [-h] [--save_dir SAVE_DIR] [--arch ARCH]\n",
      "                [--hidden_units HIDDEN_UNITS [HIDDEN_UNITS ...]]\n",
      "                [--learning_rate LEARNING_RATE] [--epochs EPOCHS]\n",
      "                [--category_names CAT_NAME_FILE] [--dropout DROPOUT]\n",
      "                data_dir\n",
      "\n",
      "Image Classifer - Training Module\n",
      "\n",
      "positional arguments:\n",
      "  data_dir              Directory containing datasets.\n",
      "\n",
      "optional arguments:\n",
      "  -h, --help            show this help message and exit\n",
      "  --save_dir SAVE_DIR   Directory to save the checkpoint file. Default='temp'.\n",
      "  --arch ARCH           Pretrained neural network: only 'vgg16' and 'densenet'\n",
      "                        are available. Default='vgg16'.\n",
      "  --hidden_units HIDDEN_UNITS [HIDDEN_UNITS ...]\n",
      "                        List of hidden units of the classifer layer. Default=\n",
      "                        4096, 1024.\n",
      "  --learning_rate LEARNING_RATE\n",
      "                        Learning Rate. Default=0.001.\n",
      "  --epochs EPOCHS       Number of epochs. Default=12\n",
      "  --category_names CAT_NAME_FILE\n",
      "                        JSON file containing the dictionary map from index to\n",
      "                        class name. Default=cat_to_name.json.\n",
      "  --dropout DROPOUT     Dropout: >=0 and <=1. Default=0.5\n"
     ]
    }
   ],
   "source": [
    "!python train.py -h"
   ]
  },
  {
   "cell_type": "markdown",
   "metadata": {},
   "source": [
    "#### Check the behavior with missing data_dir"
   ]
  },
  {
   "cell_type": "code",
   "execution_count": 11,
   "metadata": {},
   "outputs": [
    {
     "name": "stderr",
     "output_type": "stream",
     "text": [
      "usage: train.py [-h] [--save_dir SAVE_DIR] [--arch ARCH]\n",
      "                [--hidden_units HIDDEN_UNITS [HIDDEN_UNITS ...]]\n",
      "                [--learning_rate LEARNING_RATE] [--epochs EPOCHS]\n",
      "                [--category_names CAT_NAME_FILE] [--dropout DROPOUT]\n",
      "                data_dir\n",
      "train.py: error: the following arguments are required: data_dir\n"
     ]
    }
   ],
   "source": [
    "!python train.py"
   ]
  },
  {
   "cell_type": "code",
   "execution_count": 12,
   "metadata": {},
   "outputs": [
    {
     "name": "stderr",
     "output_type": "stream",
     "text": [
      "usage: train.py [-h] [--save_dir SAVE_DIR] [--arch ARCH]\n",
      "                [--hidden_units HIDDEN_UNITS [HIDDEN_UNITS ...]]\n",
      "                [--learning_rate LEARNING_RATE] [--epochs EPOCHS]\n",
      "                [--category_names CAT_NAME_FILE] [--dropout DROPOUT]\n",
      "                data_dir\n",
      "train.py: error: argument data_dir: 'fake' is an invalid folder.\n"
     ]
    }
   ],
   "source": [
    "!python train.py fake"
   ]
  },
  {
   "cell_type": "markdown",
   "metadata": {},
   "source": [
    "#### Check with missing save_dir"
   ]
  },
  {
   "cell_type": "code",
   "execution_count": 13,
   "metadata": {},
   "outputs": [
    {
     "name": "stderr",
     "output_type": "stream",
     "text": [
      "usage: train.py [-h] [--save_dir SAVE_DIR] [--arch ARCH]\n",
      "                [--hidden_units HIDDEN_UNITS [HIDDEN_UNITS ...]]\n",
      "                [--learning_rate LEARNING_RATE] [--epochs EPOCHS]\n",
      "                [--category_names CAT_NAME_FILE] [--dropout DROPOUT]\n",
      "                data_dir\n",
      "train.py: error: argument --save_dir: expected one argument\n"
     ]
    }
   ],
   "source": [
    "!python train.py flowers --save_dir"
   ]
  },
  {
   "cell_type": "code",
   "execution_count": 14,
   "metadata": {},
   "outputs": [
    {
     "name": "stderr",
     "output_type": "stream",
     "text": [
      "usage: train.py [-h] [--save_dir SAVE_DIR] [--arch ARCH]\n",
      "                [--hidden_units HIDDEN_UNITS [HIDDEN_UNITS ...]]\n",
      "                [--learning_rate LEARNING_RATE] [--epochs EPOCHS]\n",
      "                [--category_names CAT_NAME_FILE] [--dropout DROPOUT]\n",
      "                data_dir\n",
      "train.py: error: argument --save_dir: 'fake' is an invalid folder.\n"
     ]
    }
   ],
   "source": [
    "!python train.py flowers --save_dir fake"
   ]
  },
  {
   "cell_type": "markdown",
   "metadata": {},
   "source": [
    "#### Check with no hidden units"
   ]
  },
  {
   "cell_type": "code",
   "execution_count": 15,
   "metadata": {},
   "outputs": [
    {
     "name": "stderr",
     "output_type": "stream",
     "text": [
      "usage: train.py [-h] [--save_dir SAVE_DIR] [--arch ARCH]\n",
      "                [--hidden_units HIDDEN_UNITS [HIDDEN_UNITS ...]]\n",
      "                [--learning_rate LEARNING_RATE] [--epochs EPOCHS]\n",
      "                [--category_names CAT_NAME_FILE] [--dropout DROPOUT]\n",
      "                data_dir\n",
      "train.py: error: argument --hidden_units: expected at least one argument\n"
     ]
    }
   ],
   "source": [
    "!python train.py flowers --hidden_units"
   ]
  },
  {
   "cell_type": "markdown",
   "metadata": {},
   "source": [
    "#### Check with negative hidden units"
   ]
  },
  {
   "cell_type": "code",
   "execution_count": 16,
   "metadata": {},
   "outputs": [
    {
     "name": "stderr",
     "output_type": "stream",
     "text": [
      "usage: train.py [-h] [--save_dir SAVE_DIR] [--arch ARCH]\n",
      "                [--hidden_units HIDDEN_UNITS [HIDDEN_UNITS ...]]\n",
      "                [--learning_rate LEARNING_RATE] [--epochs EPOCHS]\n",
      "                [--category_names CAT_NAME_FILE] [--dropout DROPOUT]\n",
      "                data_dir\n",
      "train.py: error: argument --hidden_units: '-4096' is an invalid positive integer value.\n"
     ]
    }
   ],
   "source": [
    "!python train.py flowers --hidden_units -4096 -1024"
   ]
  },
  {
   "cell_type": "markdown",
   "metadata": {},
   "source": [
    "#### Check with missing learning rate"
   ]
  },
  {
   "cell_type": "code",
   "execution_count": 17,
   "metadata": {},
   "outputs": [
    {
     "name": "stderr",
     "output_type": "stream",
     "text": [
      "usage: train.py [-h] [--save_dir SAVE_DIR] [--arch ARCH]\n",
      "                [--hidden_units HIDDEN_UNITS [HIDDEN_UNITS ...]]\n",
      "                [--learning_rate LEARNING_RATE] [--epochs EPOCHS]\n",
      "                [--category_names CAT_NAME_FILE] [--dropout DROPOUT]\n",
      "                data_dir\n",
      "train.py: error: argument --learning_rate: expected one argument\n"
     ]
    }
   ],
   "source": [
    "!python train.py flowers --learning_rate "
   ]
  },
  {
   "cell_type": "markdown",
   "metadata": {},
   "source": [
    "#### Check with negative learning rate"
   ]
  },
  {
   "cell_type": "code",
   "execution_count": 18,
   "metadata": {},
   "outputs": [
    {
     "name": "stderr",
     "output_type": "stream",
     "text": [
      "usage: train.py [-h] [--save_dir SAVE_DIR] [--arch ARCH]\n",
      "                [--hidden_units HIDDEN_UNITS [HIDDEN_UNITS ...]]\n",
      "                [--learning_rate LEARNING_RATE] [--epochs EPOCHS]\n",
      "                [--category_names CAT_NAME_FILE] [--dropout DROPOUT]\n",
      "                data_dir\n",
      "train.py: error: argument --learning_rate: '-0.003' is an invalid positive float value.\n"
     ]
    }
   ],
   "source": [
    "!python train.py flowers --learning_rate -0.003"
   ]
  },
  {
   "cell_type": "markdown",
   "metadata": {},
   "source": [
    "#### Check with missing epochs"
   ]
  },
  {
   "cell_type": "code",
   "execution_count": 19,
   "metadata": {
    "scrolled": true
   },
   "outputs": [
    {
     "name": "stderr",
     "output_type": "stream",
     "text": [
      "usage: train.py [-h] [--save_dir SAVE_DIR] [--arch ARCH]\n",
      "                [--hidden_units HIDDEN_UNITS [HIDDEN_UNITS ...]]\n",
      "                [--learning_rate LEARNING_RATE] [--epochs EPOCHS]\n",
      "                [--category_names CAT_NAME_FILE] [--dropout DROPOUT]\n",
      "                data_dir\n",
      "train.py: error: argument --epochs: expected one argument\n"
     ]
    }
   ],
   "source": [
    "!python train.py flowers --epochs"
   ]
  },
  {
   "cell_type": "markdown",
   "metadata": {},
   "source": [
    "#### Check with negative epochs"
   ]
  },
  {
   "cell_type": "code",
   "execution_count": 20,
   "metadata": {},
   "outputs": [
    {
     "name": "stderr",
     "output_type": "stream",
     "text": [
      "usage: train.py [-h] [--save_dir SAVE_DIR] [--arch ARCH]\n",
      "                [--hidden_units HIDDEN_UNITS [HIDDEN_UNITS ...]]\n",
      "                [--learning_rate LEARNING_RATE] [--epochs EPOCHS]\n",
      "                [--category_names CAT_NAME_FILE] [--dropout DROPOUT]\n",
      "                data_dir\n",
      "train.py: error: argument --epochs: '-30' is an invalid positive integer value.\n"
     ]
    }
   ],
   "source": [
    "!python train.py flowers --epochs -30"
   ]
  },
  {
   "cell_type": "markdown",
   "metadata": {},
   "source": [
    "#### Check with missing category names file"
   ]
  },
  {
   "cell_type": "code",
   "execution_count": 21,
   "metadata": {},
   "outputs": [
    {
     "name": "stderr",
     "output_type": "stream",
     "text": [
      "usage: train.py [-h] [--save_dir SAVE_DIR] [--arch ARCH]\n",
      "                [--hidden_units HIDDEN_UNITS [HIDDEN_UNITS ...]]\n",
      "                [--learning_rate LEARNING_RATE] [--epochs EPOCHS]\n",
      "                [--category_names CAT_NAME_FILE] [--dropout DROPOUT]\n",
      "                data_dir\n",
      "train.py: error: argument --category_names: expected one argument\n"
     ]
    }
   ],
   "source": [
    "!python train.py flowers --category_names"
   ]
  },
  {
   "cell_type": "code",
   "execution_count": 22,
   "metadata": {},
   "outputs": [
    {
     "name": "stderr",
     "output_type": "stream",
     "text": [
      "usage: train.py [-h] [--save_dir SAVE_DIR] [--arch ARCH]\n",
      "                [--hidden_units HIDDEN_UNITS [HIDDEN_UNITS ...]]\n",
      "                [--learning_rate LEARNING_RATE] [--epochs EPOCHS]\n",
      "                [--category_names CAT_NAME_FILE] [--dropout DROPOUT]\n",
      "                data_dir\n",
      "train.py: error: argument --category_names: 'fake.json' is an invalid file.\n"
     ]
    }
   ],
   "source": [
    "!python train.py flowers --category_names fake.json"
   ]
  },
  {
   "cell_type": "markdown",
   "metadata": {},
   "source": [
    "#### Check with arguments"
   ]
  },
  {
   "cell_type": "code",
   "execution_count": 23,
   "metadata": {},
   "outputs": [
    {
     "name": "stdout",
     "output_type": "stream",
     "text": [
      "Proceeding with GPU.\n",
      "Epoch: 01/01, Train loss: 32.559, Validation loss:  6.718, Validation accuracy:  0.038, Elapsed Time:    0.5min\n",
      "Epoch: 01/01, Train loss:  7.463, Validation loss:  4.702, Validation accuracy:  0.025, Elapsed Time:    0.9min\n",
      "Epoch: 01/01, Train loss:  4.753, Validation loss:  4.665, Validation accuracy:  0.025, Elapsed Time:    1.3min\n",
      "Epoch: 01/01, Train loss:  4.957, Validation loss:  4.632, Validation accuracy:  0.025, Elapsed Time:    1.7min\n",
      "Epoch: 01/01, Train loss:  4.904, Validation loss:  4.636, Validation accuracy:  0.021, Elapsed Time:    2.1min\n",
      "Epoch: 01/01, Train loss:  4.996, Validation loss:  4.635, Validation accuracy:  0.034, Elapsed Time:    2.5min\n",
      "See check point file 'checkpoint.pth' in 'temp' folder.\n"
     ]
    }
   ],
   "source": [
    "!python train.py flowers --save_dir temp --arch vgg16 --hidden_units 512 256 --learning_rate 0.03 --epochs 1 --category_names cat_to_name.json"
   ]
  }
 ],
 "metadata": {
  "kernelspec": {
   "display_name": "Python 3",
   "language": "python",
   "name": "python3"
  },
  "language_info": {
   "codemirror_mode": {
    "name": "ipython",
    "version": 3
   },
   "file_extension": ".py",
   "mimetype": "text/x-python",
   "name": "python",
   "nbconvert_exporter": "python",
   "pygments_lexer": "ipython3",
   "version": "3.6.3"
  }
 },
 "nbformat": 4,
 "nbformat_minor": 4
}
